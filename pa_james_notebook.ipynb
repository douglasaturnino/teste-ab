{
 "cells": [
  {
   "attachments": {},
   "cell_type": "markdown",
   "metadata": {},
   "source": [
    "# AB Teste Course - PA James"
   ]
  },
  {
   "attachments": {},
   "cell_type": "markdown",
   "metadata": {},
   "source": [
    "## 0.1. Imports"
   ]
  },
  {
   "cell_type": "code",
   "execution_count": 8,
   "metadata": {},
   "outputs": [],
   "source": [
    "import math\n",
    "import pandas as pd\n",
    "import numpy as np\n",
    "#import seaborn as sns\n",
    "from statsmodels.stats import api as sms\n",
    "from scipy.stats import chi2_contingency\n",
    "#from statsmodels.stats.multicomp import pairwise_tukeyhsd\n",
    "#from scipy.stats import ttest_1samp, shapiro, ttest_ind, mannwhitneyu, f_oneway\n"
   ]
  },
  {
   "attachments": {},
   "cell_type": "markdown",
   "metadata": {},
   "source": [
    "## 1.0. Load Data"
   ]
  },
  {
   "cell_type": "code",
   "execution_count": 2,
   "metadata": {},
   "outputs": [],
   "source": [
    "\n",
    "df_raw = pd.read_csv(\"datasets/ab_data.csv\")"
   ]
  },
  {
   "cell_type": "code",
   "execution_count": 3,
   "metadata": {},
   "outputs": [
    {
     "data": {
      "text/html": [
       "<div>\n",
       "<style scoped>\n",
       "    .dataframe tbody tr th:only-of-type {\n",
       "        vertical-align: middle;\n",
       "    }\n",
       "\n",
       "    .dataframe tbody tr th {\n",
       "        vertical-align: top;\n",
       "    }\n",
       "\n",
       "    .dataframe thead th {\n",
       "        text-align: right;\n",
       "    }\n",
       "</style>\n",
       "<table border=\"1\" class=\"dataframe\">\n",
       "  <thead>\n",
       "    <tr style=\"text-align: right;\">\n",
       "      <th></th>\n",
       "      <th>user_id</th>\n",
       "      <th>timestamp</th>\n",
       "      <th>group</th>\n",
       "      <th>landing_page</th>\n",
       "      <th>converted</th>\n",
       "    </tr>\n",
       "  </thead>\n",
       "  <tbody>\n",
       "    <tr>\n",
       "      <th>0</th>\n",
       "      <td>851104</td>\n",
       "      <td>2017-01-21 22:11:48.556739</td>\n",
       "      <td>control</td>\n",
       "      <td>old_page</td>\n",
       "      <td>0</td>\n",
       "    </tr>\n",
       "    <tr>\n",
       "      <th>1</th>\n",
       "      <td>804228</td>\n",
       "      <td>2017-01-12 08:01:45.159739</td>\n",
       "      <td>control</td>\n",
       "      <td>old_page</td>\n",
       "      <td>0</td>\n",
       "    </tr>\n",
       "    <tr>\n",
       "      <th>2</th>\n",
       "      <td>661590</td>\n",
       "      <td>2017-01-11 16:55:06.154213</td>\n",
       "      <td>treatment</td>\n",
       "      <td>new_page</td>\n",
       "      <td>0</td>\n",
       "    </tr>\n",
       "    <tr>\n",
       "      <th>3</th>\n",
       "      <td>853541</td>\n",
       "      <td>2017-01-08 18:28:03.143765</td>\n",
       "      <td>treatment</td>\n",
       "      <td>new_page</td>\n",
       "      <td>0</td>\n",
       "    </tr>\n",
       "    <tr>\n",
       "      <th>4</th>\n",
       "      <td>864975</td>\n",
       "      <td>2017-01-21 01:52:26.210827</td>\n",
       "      <td>control</td>\n",
       "      <td>old_page</td>\n",
       "      <td>1</td>\n",
       "    </tr>\n",
       "  </tbody>\n",
       "</table>\n",
       "</div>"
      ],
      "text/plain": [
       "   user_id                   timestamp      group landing_page  converted\n",
       "0   851104  2017-01-21 22:11:48.556739    control     old_page          0\n",
       "1   804228  2017-01-12 08:01:45.159739    control     old_page          0\n",
       "2   661590  2017-01-11 16:55:06.154213  treatment     new_page          0\n",
       "3   853541  2017-01-08 18:28:03.143765  treatment     new_page          0\n",
       "4   864975  2017-01-21 01:52:26.210827    control     old_page          1"
      ]
     },
     "execution_count": 3,
     "metadata": {},
     "output_type": "execute_result"
    }
   ],
   "source": [
    "df_raw.head()"
   ]
  },
  {
   "cell_type": "code",
   "execution_count": 4,
   "metadata": {},
   "outputs": [
    {
     "data": {
      "text/plain": [
       "(294478, 5)"
      ]
     },
     "execution_count": 4,
     "metadata": {},
     "output_type": "execute_result"
    }
   ],
   "source": [
    "df_raw.shape"
   ]
  },
  {
   "attachments": {},
   "cell_type": "markdown",
   "metadata": {},
   "source": [
    "## 2.0. Design de Experimentos"
   ]
  },
  {
   "attachments": {},
   "cell_type": "markdown",
   "metadata": {},
   "source": [
    "### 2.1. Formulação das hipoteses"
   ]
  },
  {
   "cell_type": "code",
   "execution_count": 5,
   "metadata": {},
   "outputs": [],
   "source": [
    "# H0: A conversão da nova pagina é de 13%\n",
    "# H1: A conversão da nova pagina é diferente de 13%"
   ]
  },
  {
   "attachments": {},
   "cell_type": "markdown",
   "metadata": {},
   "source": [
    "### 2.2. Parâmetros do Experimento"
   ]
  },
  {
   "cell_type": "code",
   "execution_count": 6,
   "metadata": {},
   "outputs": [
    {
     "data": {
      "text/plain": [
       "4720"
      ]
     },
     "execution_count": 6,
     "metadata": {},
     "output_type": "execute_result"
    }
   ],
   "source": [
    "# nivel de confiança\n",
    "confidence_level = 0.95\n",
    "\n",
    "# nivel de significancia\n",
    "significanse_level = 1 - confidence_level\n",
    "\n",
    "# conversóes da página atual e da nova pagina\n",
    "p1 = 0.13\n",
    "p2 = 0.15\n",
    "\n",
    "# tamanho do efeito\n",
    "effect_size = sms.proportion_effectsize(p1, p2)\n",
    "\n",
    "# Poder estatístico\n",
    "power = 0.80\n",
    "\n",
    "# sample size\n",
    "sample_n = sms.NormalIndPower().solve_power(\n",
    "                effect_size,\n",
    "                power=power,\n",
    "                alpha=significanse_level\n",
    "\n",
    ")\n",
    "\n",
    "sample_n = math.ceil(sample_n)\n",
    "sample_n"
   ]
  },
  {
   "cell_type": "code",
   "execution_count": 10,
   "metadata": {},
   "outputs": [
    {
     "name": "stdout",
     "output_type": "stream",
     "text": [
      "Size of Control group: 4720\n",
      "Size of Treatment group: 4720\n",
      "\n",
      "Conversion Rate - Control Group: 0.11864406779661017\n",
      "Conversion Rate - Treatment Group: 0.11970338983050847\n",
      "p-value: 0.91\n",
      "Falha em rejeitar a hipótese nula\n"
     ]
    }
   ],
   "source": [
    "# Prepar os dados\n",
    "df_aux = df_raw[['user_id', 'group']].groupby('user_id').count().reset_index().query('group > 1')\n",
    "df3 = df_raw[~df_raw['user_id'].isin(df_aux['user_id'])]\n",
    "\n",
    "# Amostragem\n",
    "df_control_sample = df3[df3['group'] ==  'control'].sample(n=sample_n, random_state=32)\n",
    "print(f'Size of Control group: {df_control_sample.shape[0]}')\n",
    "\n",
    "df_treatment_sample = df3[df3['group'] ==  'treatment'].sample(n=sample_n, random_state=32)\n",
    "print(f'Size of Treatment group: {df_treatment_sample.shape[0]}')\n",
    "\n",
    "df_ab = pd.concat([df_control_sample, df_treatment_sample])\n",
    "\n",
    "# Taxa de conversão\n",
    "converted = df_control_sample.loc[df_control_sample['converted'] == 1, 'converted'].sum()\n",
    "conversion_rate_control = converted / len(df_control_sample)\n",
    "print(f'\\nConversion Rate - Control Group: {conversion_rate_control}')\n",
    "\n",
    "converted = df_treatment_sample.loc[df_treatment_sample['converted'] == 1, 'converted'].sum()\n",
    "conversion_rate_treatment = converted / len(df_treatment_sample)\n",
    "print(f'Conversion Rate - Treatment Group: {conversion_rate_treatment}')\n",
    "\n",
    "# Teste de Hipóteses\n",
    "df_table = df_ab[['group', 'converted']].groupby('group').agg({'converted' :['sum', 'count']})\n",
    "df_table.columns = ['converted', 'non_converted']\n",
    "\n",
    "chi_val, pval, dof, expected = chi2_contingency(df_table)\n",
    "\n",
    "print(f'p-value: {pval:.2f}')\n",
    "\n",
    "if pval < significanse_level:\n",
    "    print('Rejeita a hipóteses nula')\n",
    "else:\n",
    "    print('Falha em rejeitar a hipótese nula')\n",
    "\n",
    "\n",
    "# Conclusão\n",
    "\n",
    "# conversão de resultado para R$"
   ]
  },
  {
   "attachments": {},
   "cell_type": "markdown",
   "metadata": {},
   "source": [
    "# 3.0 Conversão da pagina em Faturamento"
   ]
  },
  {
   "cell_type": "code",
   "execution_count": 28,
   "metadata": {},
   "outputs": [],
   "source": [
    "# conversão de resultado para R$\n",
    "pagina_atual = 13 / 100\n",
    "pagina_nova = 15 / 100\n",
    "\n",
    "# Media de visitantes diários * taxa de conversão da pagina atual = compradores\n",
    "# Compradores * tick medio = faturamento (GMV - Gross margin Value)"
   ]
  },
  {
   "cell_type": "code",
   "execution_count": 14,
   "metadata": {},
   "outputs": [],
   "source": [
    "df4 = df3.copy()\n",
    "\n",
    "# \n",
    "df4['timestamp'] = pd.to_datetime(df4['timestamp']).apply(lambda x: x.strftime('%Y-%m-%d'))"
   ]
  },
  {
   "cell_type": "code",
   "execution_count": 33,
   "metadata": {},
   "outputs": [
    {
     "name": "stdout",
     "output_type": "stream",
     "text": [
      "GMV On Period: 167760000\n",
      "New GMV On Period: 193563000\n",
      "Expected Lift: 15.38%\n"
     ]
    }
   ],
   "source": [
    "df5 = df4[['user_id', 'timestamp']].groupby('timestamp').count().reset_index()\n",
    "\n",
    "# Current GMV\n",
    "df5['current_purchases'] = np.ceil(df5['user_id'] * pagina_atual).astype(int)\n",
    "df5['current_GMV'] = df5['current_purchases'] * 4500\n",
    "\n",
    "current_gmv = df5['current_GMV'].sum()\n",
    "print(f'GMV On Period: {current_gmv}')\n",
    "\n",
    "# Expected GMV\n",
    "df5['new_purchases'] = np.ceil(df5['user_id'] * pagina_nova).astype(int)\n",
    "df5['new_GMV'] = df5['new_purchases'] * 4500\n",
    "\n",
    "new_gmv = df5['new_GMV'].sum()\n",
    "print(f'New GMV On Period: {new_gmv}')\n",
    "\n",
    "lift_abs = new_gmv - current_gmv\n",
    "print(f'Abs lift: {lift_abs}')\n",
    "\n",
    "lift = 100 * (new_gmv - current_gmv) / current_gmv\n",
    "print(f'Expected Lift: {lift:.2f}%') "
   ]
  },
  {
   "cell_type": "code",
   "execution_count": null,
   "metadata": {},
   "outputs": [],
   "source": []
  }
 ],
 "metadata": {
  "kernelspec": {
   "display_name": "Python 3.8.15 ('venv')",
   "language": "python",
   "name": "python3"
  },
  "language_info": {
   "codemirror_mode": {
    "name": "ipython",
    "version": 3
   },
   "file_extension": ".py",
   "mimetype": "text/x-python",
   "name": "python",
   "nbconvert_exporter": "python",
   "pygments_lexer": "ipython3",
   "version": "3.10.6"
  },
  "orig_nbformat": 4,
  "vscode": {
   "interpreter": {
    "hash": "006d5deb8e6cdcd4312641bdf15f3bc20f0769a7305d81173599a7b40f33b4a2"
   }
  }
 },
 "nbformat": 4,
 "nbformat_minor": 2
}
