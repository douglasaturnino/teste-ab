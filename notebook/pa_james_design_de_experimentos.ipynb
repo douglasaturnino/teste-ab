{
 "cells": [
  {
   "attachments": {},
   "cell_type": "markdown",
   "metadata": {},
   "source": [
    "# AB Teste Course - PA James"
   ]
  },
  {
   "attachments": {},
   "cell_type": "markdown",
   "metadata": {},
   "source": [
    "## 0.1. Imports"
   ]
  },
  {
   "cell_type": "code",
   "execution_count": 1,
   "metadata": {},
   "outputs": [],
   "source": [
    "import math\n",
    "import pandas as pd\n",
    "import numpy as np\n",
    "import seaborn as sns\n",
    "from statsmodels.stats import api as sms\n",
    "from statsmodels.stats.multicomp import pairwise_tukeyhsd\n",
    "from scipy.stats import ttest_1samp, shapiro, ttest_ind, mannwhitneyu, f_oneway\n"
   ]
  },
  {
   "attachments": {},
   "cell_type": "markdown",
   "metadata": {},
   "source": [
    "## 1.0. Load Data"
   ]
  },
  {
   "cell_type": "code",
   "execution_count": 2,
   "metadata": {},
   "outputs": [],
   "source": [
    "\n",
    "df_raw = pd.read_csv(\"../datasets/ab_data.csv\")"
   ]
  },
  {
   "cell_type": "code",
   "execution_count": 3,
   "metadata": {},
   "outputs": [
    {
     "data": {
      "text/html": [
       "<div>\n",
       "<style scoped>\n",
       "    .dataframe tbody tr th:only-of-type {\n",
       "        vertical-align: middle;\n",
       "    }\n",
       "\n",
       "    .dataframe tbody tr th {\n",
       "        vertical-align: top;\n",
       "    }\n",
       "\n",
       "    .dataframe thead th {\n",
       "        text-align: right;\n",
       "    }\n",
       "</style>\n",
       "<table border=\"1\" class=\"dataframe\">\n",
       "  <thead>\n",
       "    <tr style=\"text-align: right;\">\n",
       "      <th></th>\n",
       "      <th>user_id</th>\n",
       "      <th>timestamp</th>\n",
       "      <th>group</th>\n",
       "      <th>landing_page</th>\n",
       "      <th>converted</th>\n",
       "    </tr>\n",
       "  </thead>\n",
       "  <tbody>\n",
       "    <tr>\n",
       "      <th>0</th>\n",
       "      <td>851104</td>\n",
       "      <td>2017-01-21 22:11:48.556739</td>\n",
       "      <td>control</td>\n",
       "      <td>old_page</td>\n",
       "      <td>0</td>\n",
       "    </tr>\n",
       "    <tr>\n",
       "      <th>1</th>\n",
       "      <td>804228</td>\n",
       "      <td>2017-01-12 08:01:45.159739</td>\n",
       "      <td>control</td>\n",
       "      <td>old_page</td>\n",
       "      <td>0</td>\n",
       "    </tr>\n",
       "    <tr>\n",
       "      <th>2</th>\n",
       "      <td>661590</td>\n",
       "      <td>2017-01-11 16:55:06.154213</td>\n",
       "      <td>treatment</td>\n",
       "      <td>new_page</td>\n",
       "      <td>0</td>\n",
       "    </tr>\n",
       "    <tr>\n",
       "      <th>3</th>\n",
       "      <td>853541</td>\n",
       "      <td>2017-01-08 18:28:03.143765</td>\n",
       "      <td>treatment</td>\n",
       "      <td>new_page</td>\n",
       "      <td>0</td>\n",
       "    </tr>\n",
       "    <tr>\n",
       "      <th>4</th>\n",
       "      <td>864975</td>\n",
       "      <td>2017-01-21 01:52:26.210827</td>\n",
       "      <td>control</td>\n",
       "      <td>old_page</td>\n",
       "      <td>1</td>\n",
       "    </tr>\n",
       "    <tr>\n",
       "      <th>...</th>\n",
       "      <td>...</td>\n",
       "      <td>...</td>\n",
       "      <td>...</td>\n",
       "      <td>...</td>\n",
       "      <td>...</td>\n",
       "    </tr>\n",
       "    <tr>\n",
       "      <th>294473</th>\n",
       "      <td>751197</td>\n",
       "      <td>2017-01-03 22:28:38.630509</td>\n",
       "      <td>control</td>\n",
       "      <td>old_page</td>\n",
       "      <td>0</td>\n",
       "    </tr>\n",
       "    <tr>\n",
       "      <th>294474</th>\n",
       "      <td>945152</td>\n",
       "      <td>2017-01-12 00:51:57.078372</td>\n",
       "      <td>control</td>\n",
       "      <td>old_page</td>\n",
       "      <td>0</td>\n",
       "    </tr>\n",
       "    <tr>\n",
       "      <th>294475</th>\n",
       "      <td>734608</td>\n",
       "      <td>2017-01-22 11:45:03.439544</td>\n",
       "      <td>control</td>\n",
       "      <td>old_page</td>\n",
       "      <td>0</td>\n",
       "    </tr>\n",
       "    <tr>\n",
       "      <th>294476</th>\n",
       "      <td>697314</td>\n",
       "      <td>2017-01-15 01:20:28.957438</td>\n",
       "      <td>control</td>\n",
       "      <td>old_page</td>\n",
       "      <td>0</td>\n",
       "    </tr>\n",
       "    <tr>\n",
       "      <th>294477</th>\n",
       "      <td>715931</td>\n",
       "      <td>2017-01-16 12:40:24.467417</td>\n",
       "      <td>treatment</td>\n",
       "      <td>new_page</td>\n",
       "      <td>0</td>\n",
       "    </tr>\n",
       "  </tbody>\n",
       "</table>\n",
       "<p>294478 rows × 5 columns</p>\n",
       "</div>"
      ],
      "text/plain": [
       "        user_id                   timestamp      group landing_page  converted\n",
       "0        851104  2017-01-21 22:11:48.556739    control     old_page          0\n",
       "1        804228  2017-01-12 08:01:45.159739    control     old_page          0\n",
       "2        661590  2017-01-11 16:55:06.154213  treatment     new_page          0\n",
       "3        853541  2017-01-08 18:28:03.143765  treatment     new_page          0\n",
       "4        864975  2017-01-21 01:52:26.210827    control     old_page          1\n",
       "...         ...                         ...        ...          ...        ...\n",
       "294473   751197  2017-01-03 22:28:38.630509    control     old_page          0\n",
       "294474   945152  2017-01-12 00:51:57.078372    control     old_page          0\n",
       "294475   734608  2017-01-22 11:45:03.439544    control     old_page          0\n",
       "294476   697314  2017-01-15 01:20:28.957438    control     old_page          0\n",
       "294477   715931  2017-01-16 12:40:24.467417  treatment     new_page          0\n",
       "\n",
       "[294478 rows x 5 columns]"
      ]
     },
     "execution_count": 3,
     "metadata": {},
     "output_type": "execute_result"
    }
   ],
   "source": [
    "df_raw"
   ]
  },
  {
   "attachments": {},
   "cell_type": "markdown",
   "metadata": {},
   "source": [
    "## 2.0. Design de Experimentos"
   ]
  },
  {
   "attachments": {},
   "cell_type": "markdown",
   "metadata": {},
   "source": [
    "### 2.1. Formulação das hipoteses"
   ]
  },
  {
   "cell_type": "code",
   "execution_count": null,
   "metadata": {},
   "outputs": [],
   "source": []
  },
  {
   "attachments": {},
   "cell_type": "markdown",
   "metadata": {},
   "source": [
    "### 2.2. Parâmetros do Experimento"
   ]
  },
  {
   "cell_type": "code",
   "execution_count": 4,
   "metadata": {},
   "outputs": [
    {
     "data": {
      "text/plain": [
       "4720"
      ]
     },
     "execution_count": 4,
     "metadata": {},
     "output_type": "execute_result"
    }
   ],
   "source": [
    "# nivel de confiança\n",
    "confidence_level = 0.95\n",
    "\n",
    "# nivel de significancia\n",
    "significanse_level = 1 - confidence_level\n",
    "\n",
    "# conversóes da página atual e da nova pagina\n",
    "p1 = 0.13\n",
    "p2 = 0.15\n",
    "\n",
    "# tamanho do efeito\n",
    "effect_size = sms.proportion_effectsize(p1, p2)\n",
    "\n",
    "# Poder estatístico\n",
    "power = 0.80\n",
    "\n",
    "# sample size\n",
    "sample_n = sms.NormalIndPower().solve_power(\n",
    "                effect_size,\n",
    "                power=power,\n",
    "                alpha=significanse_level\n",
    "\n",
    ")\n",
    "\n",
    "sample_n = math.ceil(sample_n)\n",
    "sample_n"
   ]
  },
  {
   "cell_type": "code",
   "execution_count": 5,
   "metadata": {},
   "outputs": [
    {
     "name": "stdout",
     "output_type": "stream",
     "text": [
      "O numero de email para enviar: 47200\n",
      "O numero total da base de email para enviar: 94400\n"
     ]
    }
   ],
   "source": [
    "conversion_rate = 0.10\n",
    "x = sample_n / conversion_rate\n",
    "print(\"O numero de email para enviar: {}\".format(int(x)))\n",
    "print(\"O numero total da base de email para enviar: {}\".format(int(2*x)))"
   ]
  },
  {
   "cell_type": "code",
   "execution_count": 6,
   "metadata": {},
   "outputs": [
    {
     "name": "stdout",
     "output_type": "stream",
     "text": [
      "O tamanho total da amostra é de 9440\n",
      "O tamanho da amostra do grupo controle é de: 4720\n",
      "O tamanho da amostra do grupo tratamento é de: 4720\n"
     ]
    }
   ],
   "source": [
    "print(\"O tamanho total da amostra é de {}\".format( 2*sample_n))\n",
    "print(\"O tamanho da amostra do grupo controle é de: {}\".format( sample_n))\n",
    "print(\"O tamanho da amostra do grupo tratamento é de: {}\".format( sample_n))"
   ]
  },
  {
   "cell_type": "code",
   "execution_count": 7,
   "metadata": {},
   "outputs": [
    {
     "name": "stdout",
     "output_type": "stream",
     "text": [
      "Number of rows: 294478\n",
      "Number of cols: 5\n"
     ]
    }
   ],
   "source": [
    "## Anásise descritiva dos dados\n",
    "print(f\"Number of rows: {df_raw.shape[0]}\")\n",
    "print(f\"Number of cols: {df_raw.shape[1]}\")\n"
   ]
  },
  {
   "cell_type": "code",
   "execution_count": 8,
   "metadata": {},
   "outputs": [
    {
     "data": {
      "text/plain": [
       "user_id         0\n",
       "timestamp       0\n",
       "group           0\n",
       "landing_page    0\n",
       "converted       0\n",
       "dtype: int64"
      ]
     },
     "execution_count": 8,
     "metadata": {},
     "output_type": "execute_result"
    }
   ],
   "source": [
    "# Verificar dados faltantes\n",
    "df_raw.isna().sum()"
   ]
  },
  {
   "cell_type": "code",
   "execution_count": 9,
   "metadata": {},
   "outputs": [
    {
     "data": {
      "text/plain": [
       "(286690, 5)"
      ]
     },
     "execution_count": 9,
     "metadata": {},
     "output_type": "execute_result"
    }
   ],
   "source": [
    "#3.2 Conferir as flags do teste A\n",
    "df_user_delete = df_raw[['user_id', 'group']].groupby('user_id').count().reset_index().query('group > 1')['user_id']\n",
    "df1 = df_raw[~df_raw['user_id'].isin(df_user_delete)]\n",
    "df1.shape"
   ]
  },
  {
   "cell_type": "code",
   "execution_count": 10,
   "metadata": {},
   "outputs": [
    {
     "data": {
      "text/html": [
       "<div>\n",
       "<style scoped>\n",
       "    .dataframe tbody tr th:only-of-type {\n",
       "        vertical-align: middle;\n",
       "    }\n",
       "\n",
       "    .dataframe tbody tr th {\n",
       "        vertical-align: top;\n",
       "    }\n",
       "\n",
       "    .dataframe thead th {\n",
       "        text-align: right;\n",
       "    }\n",
       "</style>\n",
       "<table border=\"1\" class=\"dataframe\">\n",
       "  <thead>\n",
       "    <tr style=\"text-align: right;\">\n",
       "      <th></th>\n",
       "      <th>group</th>\n",
       "      <th>landing_page</th>\n",
       "      <th>user_id</th>\n",
       "    </tr>\n",
       "  </thead>\n",
       "  <tbody>\n",
       "    <tr>\n",
       "      <th>0</th>\n",
       "      <td>control</td>\n",
       "      <td>old_page</td>\n",
       "      <td>143293</td>\n",
       "    </tr>\n",
       "    <tr>\n",
       "      <th>1</th>\n",
       "      <td>treatment</td>\n",
       "      <td>new_page</td>\n",
       "      <td>143397</td>\n",
       "    </tr>\n",
       "  </tbody>\n",
       "</table>\n",
       "</div>"
      ],
      "text/plain": [
       "       group landing_page  user_id\n",
       "0    control     old_page   143293\n",
       "1  treatment     new_page   143397"
      ]
     },
     "execution_count": 10,
     "metadata": {},
     "output_type": "execute_result"
    }
   ],
   "source": [
    "#data without duplicated\n",
    "df1[['user_id','group', 'landing_page']].groupby(['group', 'landing_page']).count().reset_index()"
   ]
  },
  {
   "cell_type": "code",
   "execution_count": 11,
   "metadata": {},
   "outputs": [
    {
     "name": "stdout",
     "output_type": "stream",
     "text": [
      "Size of Control group: 4720\n",
      "Size of tratment group: 4720\n",
      "Total sample size: 9440\n"
     ]
    }
   ],
   "source": [
    "# 3.3 Amostragem aleatória dos grupos Controle e Tratamento\n",
    "# Control group\n",
    "df_control_sample = df1[df1['group'] == 'control'].sample(n=sample_n, random_state=42)\n",
    "print(f'Size of Control group: {df_control_sample.shape[0]}')\n",
    "\n",
    "# Treatment group\n",
    "df_treatment_sample = df1[df1['group'] == 'treatment'].sample(n=sample_n, random_state=42)\n",
    "print(f'Size of tratment group: {df_treatment_sample.shape[0]}')\n",
    "\n",
    "# Total Sample Size\n",
    "df_ab = pd.concat([df_control_sample, df_treatment_sample]).reset_index(drop=True)\n",
    "print(f'Total sample size: {df_ab.shape[0]}')\n"
   ]
  },
  {
   "cell_type": "code",
   "execution_count": 12,
   "metadata": {},
   "outputs": [
    {
     "name": "stdout",
     "output_type": "stream",
     "text": [
      "Converstion Rate - Control Goup: 0.1155\n",
      "Converstion Rate - treatment Goup: 0.1290\n"
     ]
    }
   ],
   "source": [
    "#Cálculo da métrica de interesse entre os groupos (Conversão de cada página)\n",
    "\n",
    "#Control Group\n",
    "sales = df_control_sample.loc[df_control_sample['converted'] == 1, 'converted'].sum()\n",
    "visit = len(df_control_sample)\n",
    "\n",
    "conversion_rate_control = sales / visit\n",
    "print(f'Converstion Rate - Control Goup: {conversion_rate_control:.4f}')\n",
    "\n",
    "#Treatment Group\n",
    "sales = df_treatment_sample.loc[df_treatment_sample['converted'] == 1, 'converted'].sum()\n",
    "visit = len(df_treatment_sample)\n",
    "\n",
    "conversion_rate_treatment = sales / visit\n",
    "print(f'Converstion Rate - treatment Goup: {conversion_rate_treatment:.4f}')\n",
    "\n",
    "\n",
    "# conversão = compradores / visitantes\n"
   ]
  },
  {
   "attachments": {},
   "cell_type": "markdown",
   "metadata": {},
   "source": [
    "# 3.0 Testes Estatísticos"
   ]
  },
  {
   "attachments": {},
   "cell_type": "markdown",
   "metadata": {},
   "source": [
    "## 3.1 One-Sample Test"
   ]
  },
  {
   "cell_type": "code",
   "execution_count": 13,
   "metadata": {},
   "outputs": [],
   "source": [
    "df = [14, 14, 16, 13, 12, 17, 15, 14, 15, 13, 15, 14]\n",
    "\n",
    "# H0: u = 15 (Altura média das espécies das plantas de fato é 15cm )\n",
    "# H1: <> = 15 (Altura média das espécies das plantas é diferente de é 15cm )\n"
   ]
  },
  {
   "cell_type": "code",
   "execution_count": 14,
   "metadata": {},
   "outputs": [
    {
     "name": "stdout",
     "output_type": "stream",
     "text": [
      "p-values: 0.12014460742498101\n",
      "Falha em rejeitar a hipótise nula (Assumi a hipótese nula)\n"
     ]
    }
   ],
   "source": [
    "statstic, pvalue = ttest_1samp(df, popmean=15)\n",
    "print (f'p-values: {pvalue}')\n",
    "\n",
    "alpha = 0.05\n",
    "if pvalue < alpha:\n",
    "    print('Rejeita a hiptese nula')\n",
    "else:\n",
    "    print('Falha em rejeitar a hipótise nula (Assumi a hipótese nula)')\n",
    "\n",
    "# Se p-value for < alpha rejeita-se H0\n",
    "#   Ou sejá, a altura media das plantas é diferente de 15 cm\n",
    "\n",
    "# Se p-value for > alpha rejeita-se H0\n",
    "#   Ou sejá, as plantas podem ter em media 15 cm"
   ]
  },
  {
   "attachments": {},
   "cell_type": "markdown",
   "metadata": {},
   "source": [
    "## 3.2 Two-Sample Test (Condições Paramétricas são satisfeitas)"
   ]
  },
  {
   "cell_type": "code",
   "execution_count": 15,
   "metadata": {},
   "outputs": [
    {
     "name": "stdout",
     "output_type": "stream",
     "text": [
      "15.15\n",
      "15.8\n"
     ]
    }
   ],
   "source": [
    "df1 = np.array([14, 15, 15, 16, 13, 8, 14, 17, 16, 14, 19, 20, 21, 15, 15, 16, 16, 13, 14, 12])\n",
    "df2 = np.array([15, 17, 14, 17, 14, 8, 12, 19, 19, 14, 17, 22, 24, 16, 13, 16, 13, 18, 15, 13])\n",
    "\n",
    "\n",
    "# H0: u1 = u2 (Altura média das espécies dos grupos de plantas são iguais )\n",
    "# H1: <> = 15 (Altura média das espécies dos grupos de plantas são diferente)\n",
    "\n",
    "print (np.mean(df1))\n",
    "print (np.mean(df2))\n",
    "\n"
   ]
  },
  {
   "cell_type": "code",
   "execution_count": 16,
   "metadata": {},
   "outputs": [
    {
     "name": "stdout",
     "output_type": "stream",
     "text": [
      "p-value1: 0.2267739325761795\n",
      "p-value2: 0.6782065033912659\n",
      "\n",
      "Var 1: 7.727500000000001\n",
      "Var 2: 12.260000000000002\n",
      "p-value: 0.5300471010405257\n",
      "Falha em rejeitar a hipótese nula\n"
     ]
    }
   ],
   "source": [
    "# Condições paramétricas\n",
    "\n",
    "# 1. Amostras Indepedents\n",
    "# 2. Normamente distrinuídos\n",
    "\n",
    "## Teste de Normalidade - Shapiro\n",
    "# H0: Distribuição não normal\n",
    "# H1: Distribuição normalmente distribuido\n",
    "\n",
    "# if pvalue < alpha\n",
    "#  print ('Rejeito a hipótese nula')\n",
    "#  pvalue = 0.0001 - Digo que não é normal\n",
    "#\n",
    "# else\n",
    "#  print('Falha em rejeitar a hipótese nula')\n",
    "#  pvalue = 0.89392 - é normal\n",
    "#\n",
    "stats1, pvalue1 = shapiro(df1)\n",
    "print(f'p-value1: {pvalue1}')\n",
    "\n",
    "stats2, pvalue2 = shapiro(df2)\n",
    "print(f'p-value2: {pvalue2}')\n",
    "\n",
    "\n",
    "# 3. Variancias iguais\n",
    "print(f'\\nVar 1: {np.var(df1)}')\n",
    "print(f'Var 2: {np.var(df2)}')\n",
    "\n",
    "\n",
    "stats, pvalue = ttest_ind(df1, df2, equal_var=True)\n",
    "print(f'p-value: {pvalue}')\n",
    "\n",
    "alpha = 0.05\n",
    "if pvalue < alpha:\n",
    "    print('Rejeita a hipótese nula')\n",
    "\n",
    "else:\n",
    "    print('Falha em rejeitar a hipótese nula')\n",
    "    \n"
   ]
  },
  {
   "attachments": {},
   "cell_type": "markdown",
   "metadata": {},
   "source": [
    "## 3.3 Mann-Whitney U-test (Condições Paramétricas são satisfeitas)"
   ]
  },
  {
   "cell_type": "code",
   "execution_count": 17,
   "metadata": {},
   "outputs": [],
   "source": [
    "df1 = [20, 23, 21, 20, 18, 17, 18, 14, 20, 24, 43, 19]\n",
    "df2 = [24, 25, 21, 22, 23, 18, 17, 28, 24, 27, 21, 23]"
   ]
  },
  {
   "cell_type": "code",
   "execution_count": 18,
   "metadata": {},
   "outputs": [
    {
     "data": {
      "text/plain": [
       "21.416666666666668"
      ]
     },
     "execution_count": 18,
     "metadata": {},
     "output_type": "execute_result"
    }
   ],
   "source": [
    "np.mean(df1)"
   ]
  },
  {
   "cell_type": "code",
   "execution_count": 19,
   "metadata": {},
   "outputs": [
    {
     "data": {
      "text/plain": [
       "22.75"
      ]
     },
     "execution_count": 19,
     "metadata": {},
     "output_type": "execute_result"
    }
   ],
   "source": [
    "np.mean(df2)"
   ]
  },
  {
   "cell_type": "code",
   "execution_count": 20,
   "metadata": {},
   "outputs": [],
   "source": [
    "# H0: u1 = u2 (Altura média das plantas dos grupos são iguais )\n",
    "# H1: <> = 15 (Altura média das plantas dos grupos não são diferente)"
   ]
  },
  {
   "cell_type": "code",
   "execution_count": 21,
   "metadata": {},
   "outputs": [
    {
     "name": "stdout",
     "output_type": "stream",
     "text": [
      "p-value1: 0.0005459139938466251\n",
      "p-value2: 0.9021514058113098\n",
      "\n",
      "Var 1: 48.743055555555564\n",
      "Var 2: 9.6875\n",
      "p-value: 0.07217495133598324\n",
      "Falha em rejeitar a hipótese nula\n"
     ]
    }
   ],
   "source": [
    "# Condições paramétricas\n",
    "\n",
    "# 1. Amostras Indepedents\n",
    "# 2. Normamente distrinuídos\n",
    "\n",
    "## Teste de Normalidade - Shapiro\n",
    "# H0: Distribuição não normal\n",
    "# H1: Distribuição normalmente distribuido\n",
    "\n",
    "# if pvalue < alpha\n",
    "#  print ('Rejeito a hipótese nula')\n",
    "#  pvalue = 0.0001 - Digo que não é normal\n",
    "#\n",
    "# else\n",
    "#  print('Falha em rejeitar a hipótese nula')\n",
    "#  pvalue = 0.89392 - é normal\n",
    "#\n",
    "stats1, pvalue1 = shapiro(df1)\n",
    "print(f'p-value1: {pvalue1}')\n",
    "\n",
    "stats2, pvalue2 = shapiro(df2)\n",
    "print(f'p-value2: {pvalue2}')\n",
    "\n",
    "\n",
    "# 3. Variancias iguais\n",
    "print(f'\\nVar 1: {np.var(df1)}')\n",
    "print(f'Var 2: {np.var(df2)}')\n",
    "\n",
    "\n",
    "stats, pvalue = mannwhitneyu(df1, df2)\n",
    "print(f'p-value: {pvalue}')\n",
    "\n",
    "alpha = 0.05\n",
    "if pvalue < alpha:\n",
    "    print('Rejeita a hipótese nula')\n",
    "\n",
    "else:\n",
    "    print('Falha em rejeitar a hipótese nula')\n",
    "    \n"
   ]
  },
  {
   "attachments": {},
   "cell_type": "markdown",
   "metadata": {},
   "source": [
    "## 3.4 Anova"
   ]
  },
  {
   "cell_type": "code",
   "execution_count": 22,
   "metadata": {},
   "outputs": [],
   "source": [
    "df = pd.DataFrame({'A': [25, 30, 28, 36, 29],\n",
    "                   'B': [45, 55, 29, 56, 40],\n",
    "                   'C': [30, 29, 33, 37, 27],\n",
    "                   'D': [54, 60, 51, 62, 73]})"
   ]
  },
  {
   "cell_type": "code",
   "execution_count": 23,
   "metadata": {},
   "outputs": [
    {
     "data": {
      "text/html": [
       "<div>\n",
       "<style scoped>\n",
       "    .dataframe tbody tr th:only-of-type {\n",
       "        vertical-align: middle;\n",
       "    }\n",
       "\n",
       "    .dataframe tbody tr th {\n",
       "        vertical-align: top;\n",
       "    }\n",
       "\n",
       "    .dataframe thead th {\n",
       "        text-align: right;\n",
       "    }\n",
       "</style>\n",
       "<table border=\"1\" class=\"dataframe\">\n",
       "  <thead>\n",
       "    <tr style=\"text-align: right;\">\n",
       "      <th></th>\n",
       "      <th>index</th>\n",
       "      <th>treatment</th>\n",
       "      <th>value</th>\n",
       "    </tr>\n",
       "  </thead>\n",
       "  <tbody>\n",
       "    <tr>\n",
       "      <th>0</th>\n",
       "      <td>0</td>\n",
       "      <td>A</td>\n",
       "      <td>25</td>\n",
       "    </tr>\n",
       "    <tr>\n",
       "      <th>1</th>\n",
       "      <td>1</td>\n",
       "      <td>A</td>\n",
       "      <td>30</td>\n",
       "    </tr>\n",
       "    <tr>\n",
       "      <th>2</th>\n",
       "      <td>2</td>\n",
       "      <td>A</td>\n",
       "      <td>28</td>\n",
       "    </tr>\n",
       "    <tr>\n",
       "      <th>3</th>\n",
       "      <td>3</td>\n",
       "      <td>A</td>\n",
       "      <td>36</td>\n",
       "    </tr>\n",
       "    <tr>\n",
       "      <th>4</th>\n",
       "      <td>4</td>\n",
       "      <td>A</td>\n",
       "      <td>29</td>\n",
       "    </tr>\n",
       "  </tbody>\n",
       "</table>\n",
       "</div>"
      ],
      "text/plain": [
       "   index treatment  value\n",
       "0      0         A     25\n",
       "1      1         A     30\n",
       "2      2         A     28\n",
       "3      3         A     36\n",
       "4      4         A     29"
      ]
     },
     "execution_count": 23,
     "metadata": {},
     "output_type": "execute_result"
    }
   ],
   "source": [
    "df_melt = pd.melt(df.reset_index(), id_vars=['index'], value_vars=['A', 'B', 'C', 'D'])\n",
    "df_melt.columns = ['index', 'treatment', 'value']\n",
    "df_melt.head()"
   ]
  },
  {
   "cell_type": "code",
   "execution_count": 24,
   "metadata": {},
   "outputs": [
    {
     "data": {
      "text/plain": [
       "<Axes: xlabel='treatment', ylabel='value'>"
      ]
     },
     "execution_count": 24,
     "metadata": {},
     "output_type": "execute_result"
    },
    {
     "data": {
      "image/png": "[encoded data removed]",
      "text/plain": [
       "<Figure size 640x480 with 1 Axes>"
      ]
     },
     "metadata": {},
     "output_type": "display_data"
    }
   ],
   "source": [
    "sns.boxplot(x='treatment', y='value', data=df_melt)"
   ]
  },
  {
   "cell_type": "code",
   "execution_count": 25,
   "metadata": {},
   "outputs": [
    {
     "name": "stdout",
     "output_type": "stream",
     "text": [
      "pvalue - Grupo A: ShapiroResult(statistic=0.9316344261169434, pvalue=0.6075581908226013)\n",
      "pvalue - Grupo B: ShapiroResult(statistic=0.9264495968818665, pvalue=0.5723677277565002)\n",
      "pvalue - Grupo C: ShapiroResult(statistic=0.9529604315757751, pvalue=0.7583119869232178)\n",
      "pvalue - Grupo D: ShapiroResult(statistic=0.9448273181915283, pvalue=0.7002365589141846)\n",
      "\n",
      "Variance - Grupo A: 13.040000000000001\n",
      "Variance - Grupo B: 100.4\n",
      "Variance - Grupo C: 12.16\n",
      "Variance - Grupo D: 58.0\n"
     ]
    }
   ],
   "source": [
    "print(f'pvalue - Grupo A: {shapiro(df[\"A\"])}')\n",
    "print(f'pvalue - Grupo B: {shapiro(df[\"B\"])}')\n",
    "print(f'pvalue - Grupo C: {shapiro(df[\"C\"])}')\n",
    "print(f'pvalue - Grupo D: {shapiro(df[\"D\"])}')\n",
    "\n",
    "print(f'\\nVariance - Grupo A: {np.var(df[\"A\"])}')\n",
    "print(f'Variance - Grupo B: {np.var(df[\"B\"])}')\n",
    "print(f'Variance - Grupo C: {np.var(df[\"C\"])}')\n",
    "print(f'Variance - Grupo D: {np.var(df[\"D\"])}')"
   ]
  },
  {
   "cell_type": "code",
   "execution_count": 26,
   "metadata": {},
   "outputs": [
    {
     "name": "stdout",
     "output_type": "stream",
     "text": [
      "pvalue: 2.639241146210922e-05\n",
      "Rejeita a hipótese nula\n"
     ]
    }
   ],
   "source": [
    "stats, pvalue = f_oneway(df['A'], df['B'], df['C'], df['D'])\n",
    "print(f'pvalue: {pvalue}')\n",
    "\n",
    "\n",
    "# H0: Não há diferença na altura média\n",
    "# H1: Há diferença na altura média\n",
    "\n",
    "alpha = 0.05\n",
    "\n",
    "if pvalue < alpha:\n",
    "    print('Rejeita a hipótese nula')\n",
    "else:\n",
    "    print('Falha em rejeita a hipotese nula - Aceita a H0')"
   ]
  },
  {
   "cell_type": "code",
   "execution_count": 27,
   "metadata": {},
   "outputs": [
    {
     "name": "stdout",
     "output_type": "stream",
     "text": [
      "Multiple Comparison of Means - Tukey HSD, FWER=0.05\n",
      "===================================================\n",
      "group1 group2 meandiff p-adj   lower  upper  reject\n",
      "---------------------------------------------------\n",
      "     A      B     15.4 0.0251   1.694 29.106   True\n",
      "     A      C      1.6 0.9867 -12.106 15.306  False\n",
      "     A      D     30.4 0.0001  16.694 44.106   True\n",
      "     B      C    -13.8 0.0482 -27.506 -0.094   True\n",
      "     B      D     15.0 0.0296   1.294 28.706   True\n",
      "     C      D     28.8 0.0001  15.094 42.506   True\n",
      "---------------------------------------------------\n"
     ]
    }
   ],
   "source": [
    "tukey = pairwise_tukeyhsd(endog=df_melt['value'], \n",
    "                          groups=df_melt['treatment'],\n",
    "                          alpha=0.05)\n",
    "print(tukey)\n"
   ]
  }
 ],
 "metadata": {
  "kernelspec": {
   "display_name": "Python 3.8.15 ('venv')",
   "language": "python",
   "name": "python3"
  },
  "language_info": {
   "codemirror_mode": {
    "name": "ipython",
    "version": 3
   },
   "file_extension": ".py",
   "mimetype": "text/x-python",
   "name": "python",
   "nbconvert_exporter": "python",
   "pygments_lexer": "ipython3",
   "version": "3.10.6"
  },
  "orig_nbformat": 4,
  "vscode": {
   "interpreter": {
    "hash": "006d5deb8e6cdcd4312641bdf15f3bc20f0769a7305d81173599a7b40f33b4a2"
   }
  }
 },
 "nbformat": 4,
 "nbformat_minor": 2
}
